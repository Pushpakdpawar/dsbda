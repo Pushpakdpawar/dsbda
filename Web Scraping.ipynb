{
 "cells": [
  {
   "cell_type": "code",
   "execution_count": 1,
   "id": "b9dcc23b",
   "metadata": {},
   "outputs": [],
   "source": [
    "import requests\n",
    "from bs4 import BeautifulSoup"
   ]
  },
  {
   "cell_type": "code",
   "execution_count": 2,
   "id": "d3dcbefc",
   "metadata": {},
   "outputs": [],
   "source": [
    "# URL of the product page\n",
    "url = \"https://www.amazon.com/HP-Portable-Microsoft-Quad-Core-Processor/dp/B0CPGKT77T/ref=sr_1_4?sr=8-4\""
   ]
  },
  {
   "cell_type": "code",
   "execution_count": 3,
   "id": "715c8919",
   "metadata": {},
   "outputs": [
    {
     "name": "stdout",
     "output_type": "stream",
     "text": [
      "Rating: 4.1\n"
     ]
    }
   ],
   "source": [
    "def scrape_ratings(url):\n",
    "    response = requests.get(url)\n",
    "    if response.status_code == 200:\n",
    "        soup = BeautifulSoup(response.content, 'html.parser')\n",
    "        rating = soup.find('span', class_='a-icon-alt').text.split(' ')[0]\n",
    "        print(\"Rating:\", rating)\n",
    "    else:\n",
    "        print(\"Failed to retrieve page:\", response.status_code)\n",
    "\n",
    "scrape_ratings(url)"
   ]
  },
  {
   "cell_type": "code",
   "execution_count": 4,
   "id": "330d38ad",
   "metadata": {},
   "outputs": [
    {
     "name": "stdout",
     "output_type": "stream",
     "text": [
      "Comment: It arrived quickly, was easy to setup, and is so much faster than my old Gateway machine for surfing the internet, etc.\n",
      "Read more\n",
      "---------------------\n",
      "Comment: The laptop was a great price for the horsepower.  However, I was unable to get Ubuntu 22.04 to boot up on the laptop.  I run Ubuntu Linux on all my computers and rarely have an issue installing on a new computer.  This laptop was the exception.  I attempted to install Ubuntu 22.04.  The installation went smoothly, but the system would not boot up.  It kept saying it could not find the file-system.  I then attempted to install 24.04.  Again, the installation went smoothly, but the system would not boot up.  I then attempted to install 20.04.  The installation went smoothly and this time the system did boot up.  However, when I performed the release upgrade to go from 20.04 to 22.04, the upgrade went smoothly but the system would no longer boot up.  I must have tried some 20 installations attempting different BIOS and kernel configurations before finally giving up and returning the laptop.  I ended up buying a different HP laptop from Sam's Club with which I had no problems at all installing and booting Ubuntu 22.04.If you are going to stick with the stock Microsoft Windows installation, then this laptop is probably a great buy for you.  If you intend to install a Linux installation instead, then you should avoid this laptop.\n",
      "Read more\n",
      "---------------------\n",
      "Comment: Had to get a tech to help me set it up.\n",
      "Read more\n",
      "---------------------\n",
      "Comment: TLDR: wish I went a different route, the money I saved isn’t worth what I’m losingPros:Nice price point. I got it on sale and I got the smaller hard drive since I don’t mind using an external.Battery is decent.Cons: (maybe I’m picky, I don’t think so)Cannot use on my lap. If I do the touch pad buttons are pressed FROM THE BOTTOM.Gets crazy hot.Freezes all the time. I don’t even use it for anything crazy. I just wanted a computer that worked a bit faster for writing my book and using Obsidian. News flash, my Old iPad is faster.I DM for DND so 90% of what I use this for is that. I just have vaults for Obsidian on it and it struggles with that.The sound quality sucks. But I am always using headphones.\n",
      "Read more\n",
      "---------------------\n",
      "Comment: We just needed a simple laptop to do simple things and it has worked out great with no issues.\n",
      "Read more\n",
      "---------------------\n",
      "Comment: The computer works well.  It is fast.  Gets online quickly.\n",
      "Read more\n",
      "---------------------\n",
      "Comment: The media could not be loaded.\n",
      "                \n",
      "\n",
      "\n",
      "\n",
      "I'll start with the bad first. Yes, it's plasticky on the keyboard. The outside is plastic too but I actually think it feels very sturdy and wouldn't mind it even on a more expensive laptop. The keyboard does have a bit of a grainy texture and feels plasticky on my nails, that bothers me but I'm getting used to it. Setup is a pain on windows 11, with a billion opt outs/ins for basically advertising. At least you can say no though so just pay attention to what they're asking during setup. :/Aside from that though, I'm really happy with the computer. It's fast. I turned off S mode in the settings under activation. S mode prevents you from downloading anything not Microsoft approved, including other browsers. Quite frankly, S mode is only good for controlling a child's downloads in my opinion, but I wouldn't force edge on even a child. LolI only bought this for writing but it's far exceeded my speed expectations and size is nice and big even though the laptop is extremely light. I haven't tried but I do think it could handle some light gaming.I would definitely recommend getting it.\n",
      "Read more\n",
      "---------------------\n",
      "Comment: I had purchased similar laptops from another seller that came with Windows 11 Home in S mode but I didn't realize they were S mode when I bought them. When I was looking for the next batch of laptops to order, I found this one. I read the entire description and specs to make sure I wasn't ordering more laptops with S mode. This laptop was supposed to come with Windows Home 11 only. Sure enough they did have S mode.For those who don't know what S mode is, it's Microsoft's way of keeping you \"safe\" by only allowing you to download apps from the Microsoft store. That means if you want to use any other browser than Microsoft Edge, you're out of luck. There's supposed to be an easy way to switch out of S mode but the chances that it actually works is about 50/50 so if you want to use another browser like Chrome or download apps not in the Microsoft store, beware of this laptop or any that have Windows in S mode.Other than the S mode issue, these laptops are pretty decent for the price. Just know these are older, lesser laptops that have been upgraded to the advertised specs.\n",
      "Read more\n",
      "---------------------\n"
     ]
    }
   ],
   "source": [
    "def scrape_comments(url):\n",
    "    response = requests.get(url)\n",
    "    if response.status_code == 200:\n",
    "        soup = BeautifulSoup(response.content, 'html.parser')\n",
    "        review_containers = soup.find_all('div', class_='a-section review aok-relative')\n",
    "        for review in review_containers:\n",
    "            comment = review.find('span', class_='review-text').text.strip()\n",
    "            print(\"Comment:\", comment)\n",
    "            print(\"---------------------\")\n",
    "    else:\n",
    "        print(\"Failed to retrieve page:\", response.status_code)\n",
    "\n",
    "scrape_comments(url)"
   ]
  },
  {
   "cell_type": "code",
   "execution_count": 5,
   "id": "cbeb6017",
   "metadata": {},
   "outputs": [
    {
     "name": "stdout",
     "output_type": "stream",
     "text": [
      "Tags: ['5.0 out of 5 stars\\nGood laptop\\n', 'Verified Purchase', 'Report']\n",
      "---------------------\n",
      "Tags: ['5.0 out of 5 stars\\nUnable to install Ubunut Linux.\\n', 'Verified Purchase', 'Report']\n",
      "---------------------\n",
      "Tags: ['4.0 out of 5 stars\\nNice little computer\\n', 'Verified Purchase', 'Report']\n",
      "---------------------\n",
      "Tags: ['1.0 out of 5 stars\\nHonestly wish I went a different route\\n', 'Verified Purchase', 'Report']\n",
      "---------------------\n",
      "Tags: ['5.0 out of 5 stars\\nAbsolutely Fantastic\\n', 'Verified Purchase', 'Report']\n",
      "---------------------\n",
      "Tags: ['5.0 out of 5 stars\\nComputer Works Well\\n', 'Verified Purchase', 'Report']\n",
      "---------------------\n",
      "Tags: ['5.0 out of 5 stars\\nPlasticky but fast\\n', 'Verified Purchase', 'Report']\n",
      "---------------------\n",
      "Tags: ['3.0 out of 5 stars\\nIncorrect product description\\n', 'Verified Purchase', 'Report']\n",
      "---------------------\n"
     ]
    }
   ],
   "source": [
    "def scrape_tags(url):\n",
    "    response = requests.get(url)\n",
    "    if response.status_code == 200:\n",
    "        soup = BeautifulSoup(response.content, 'html.parser')\n",
    "        review_containers = soup.find_all('div', class_='a-section review aok-relative')\n",
    "        for review in review_containers:\n",
    "            tags = review.find_all('a', class_='a-link-normal')\n",
    "            tag_list = [tag.text for tag in tags]\n",
    "            print(\"Tags:\", tag_list)\n",
    "            print(\"---------------------\")\n",
    "    else:\n",
    "        print(\"Failed to retrieve page:\", response.status_code)\n",
    "\n",
    "scrape_tags(url)"
   ]
  },
  {
   "cell_type": "code",
   "execution_count": 6,
   "id": "44aae21d",
   "metadata": {},
   "outputs": [
    {
     "name": "stdout",
     "output_type": "stream",
     "text": [
      "Reviewer: Customer\n",
      "Review: It arrived quickly, was easy to setup, and is so much faster than my old Gateway machine for surfing the internet, etc.\n",
      "Read more\n",
      "---------------------\n",
      "Reviewer: Ben K\n",
      "Review: The laptop was a great price for the horsepower.  However, I was unable to get Ubuntu 22.04 to boot up on the laptop.  I run Ubuntu Linux on all my computers and rarely have an issue installing on a new computer.  This laptop was the exception.  I attempted to install Ubuntu 22.04.  The installation went smoothly, but the system would not boot up.  It kept saying it could not find the file-system.  I then attempted to install 24.04.  Again, the installation went smoothly, but the system would not boot up.  I then attempted to install 20.04.  The installation went smoothly and this time the system did boot up.  However, when I performed the release upgrade to go from 20.04 to 22.04, the upgrade went smoothly but the system would no longer boot up.  I must have tried some 20 installations attempting different BIOS and kernel configurations before finally giving up and returning the laptop.  I ended up buying a different HP laptop from Sam's Club with which I had no problems at all installing and booting Ubuntu 22.04.If you are going to stick with the stock Microsoft Windows installation, then this laptop is probably a great buy for you.  If you intend to install a Linux installation instead, then you should avoid this laptop.\n",
      "Read more\n",
      "---------------------\n",
      "Reviewer: Geri S. Hawkins\n",
      "Review: Had to get a tech to help me set it up.\n",
      "Read more\n",
      "---------------------\n",
      "Reviewer: Mary\n",
      "Review: TLDR: wish I went a different route, the money I saved isn’t worth what I’m losingPros:Nice price point. I got it on sale and I got the smaller hard drive since I don’t mind using an external.Battery is decent.Cons: (maybe I’m picky, I don’t think so)Cannot use on my lap. If I do the touch pad buttons are pressed FROM THE BOTTOM.Gets crazy hot.Freezes all the time. I don’t even use it for anything crazy. I just wanted a computer that worked a bit faster for writing my book and using Obsidian. News flash, my Old iPad is faster.I DM for DND so 90% of what I use this for is that. I just have vaults for Obsidian on it and it struggles with that.The sound quality sucks. But I am always using headphones.\n",
      "Read more\n",
      "---------------------\n",
      "Reviewer: Angela Brown\n",
      "Review: We just needed a simple laptop to do simple things and it has worked out great with no issues.\n",
      "Read more\n",
      "---------------------\n",
      "Reviewer: W. H. Sidberry, Jr.\n",
      "Review: The computer works well.  It is fast.  Gets online quickly.\n",
      "Read more\n",
      "---------------------\n",
      "Reviewer: Stephanie Barinka\n",
      "Review: The media could not be loaded.\n",
      "                \n",
      "\n",
      "\n",
      "\n",
      "I'll start with the bad first. Yes, it's plasticky on the keyboard. The outside is plastic too but I actually think it feels very sturdy and wouldn't mind it even on a more expensive laptop. The keyboard does have a bit of a grainy texture and feels plasticky on my nails, that bothers me but I'm getting used to it. Setup is a pain on windows 11, with a billion opt outs/ins for basically advertising. At least you can say no though so just pay attention to what they're asking during setup. :/Aside from that though, I'm really happy with the computer. It's fast. I turned off S mode in the settings under activation. S mode prevents you from downloading anything not Microsoft approved, including other browsers. Quite frankly, S mode is only good for controlling a child's downloads in my opinion, but I wouldn't force edge on even a child. LolI only bought this for writing but it's far exceeded my speed expectations and size is nice and big even though the laptop is extremely light. I haven't tried but I do think it could handle some light gaming.I would definitely recommend getting it.\n",
      "Read more\n",
      "---------------------\n",
      "Reviewer: Integrity L.\n",
      "Review: I had purchased similar laptops from another seller that came with Windows 11 Home in S mode but I didn't realize they were S mode when I bought them. When I was looking for the next batch of laptops to order, I found this one. I read the entire description and specs to make sure I wasn't ordering more laptops with S mode. This laptop was supposed to come with Windows Home 11 only. Sure enough they did have S mode.For those who don't know what S mode is, it's Microsoft's way of keeping you \"safe\" by only allowing you to download apps from the Microsoft store. That means if you want to use any other browser than Microsoft Edge, you're out of luck. There's supposed to be an easy way to switch out of S mode but the chances that it actually works is about 50/50 so if you want to use another browser like Chrome or download apps not in the Microsoft store, beware of this laptop or any that have Windows in S mode.Other than the S mode issue, these laptops are pretty decent for the price. Just know these are older, lesser laptops that have been upgraded to the advertised specs.\n",
      "Read more\n",
      "---------------------\n"
     ]
    }
   ],
   "source": [
    "def scrape_reviews(url):\n",
    "    response = requests.get(url)\n",
    "    if response.status_code == 200:\n",
    "        soup = BeautifulSoup(response.content, 'html.parser')\n",
    "        review_containers = soup.find_all('div', class_='a-section review aok-relative')\n",
    "        for review in review_containers:\n",
    "            reviewer_name = review.find('span', class_='a-profile-name').text.strip()\n",
    "            review_text = review.find('span', class_='review-text').text.strip()\n",
    "            print(\"Reviewer:\", reviewer_name)\n",
    "            print(\"Review:\", review_text)\n",
    "            print(\"---------------------\")\n",
    "    else:\n",
    "        print(\"Failed to retrieve page:\", response.status_code)\n",
    "\n",
    "scrape_reviews(url)"
   ]
  },
  {
   "cell_type": "code",
   "execution_count": 7,
   "id": "684cb60b",
   "metadata": {},
   "outputs": [
    {
     "name": "stdout",
     "output_type": "stream",
     "text": [
      "Customer Name: Customer\n",
      "---------------------\n",
      "Customer Name: Ben K\n",
      "---------------------\n",
      "Customer Name: Geri S. Hawkins\n",
      "---------------------\n",
      "Customer Name: Mary\n",
      "---------------------\n",
      "Customer Name: Angela Brown\n",
      "---------------------\n",
      "Customer Name: W. H. Sidberry, Jr.\n",
      "---------------------\n",
      "Customer Name: Stephanie Barinka\n",
      "---------------------\n",
      "Customer Name: Integrity L.\n",
      "---------------------\n"
     ]
    }
   ],
   "source": [
    "def scrape_customer_names(url):\n",
    "    response = requests.get(url)\n",
    "    if response.status_code == 200:\n",
    "        soup = BeautifulSoup(response.content, 'html.parser')\n",
    "        review_containers = soup.find_all('div', class_='a-section review aok-relative')\n",
    "        for review in review_containers:\n",
    "            customer_name = review.find('span', class_='a-profile-name').text.strip()\n",
    "            print(\"Customer Name:\", customer_name)\n",
    "            print(\"---------------------\")\n",
    "    else:\n",
    "        print(\"Failed to retrieve page:\", response.status_code)\n",
    "        \n",
    "scrape_customer_names(url)"
   ]
  },
  {
   "cell_type": "code",
   "execution_count": 8,
   "id": "8baa6b0f",
   "metadata": {},
   "outputs": [
    {
     "name": "stdout",
     "output_type": "stream",
     "text": [
      "Product Title: HP 15.6\" Portable Laptop (Include 1 Year Microsoft 365), HD Display, Intel Quad-Core N200 Processor, 16GB RAM, 128GB Storage, Wi-Fi 5, Webcam, HDMI, Numeric Keypad, Windows 11 Home, Red\n",
      "Product Description: About this item    【High Speed RAM And Enormous Space】16GB high-bandwidth RAM to smoothly run multiple applications and browser tabs all at once; 128GB UFS SSD allows to fast bootup and data transfer    【Processor】Intel N200 Processor (4 Cores, 4 Threads, 6MB Intel Smart Cache, up to 3.7GHz Turbo)    【Display】15.6\" diagonal, HD (1366 * 768) Screen    【Tech Specs】2 x USB 3.0 Type-A, 1 x USB Type-C, 1 x HDMI, 1 x headphone/microphone combo, Numeric Keyboard, Webcam, Wi-Fi 5 and Bluetooth    【Operating System】Windows 11 Home - Beautiful, more consistent new design, Great window layout options, Better multi-monitor functionality, Improved performance features, New videogame selection and capabilities, Compatible with Android Apps    \n",
      "›  See more product details\n"
     ]
    }
   ],
   "source": [
    "def scrape_product_info(url):\n",
    "    response = requests.get(url)\n",
    "    if response.status_code == 200:\n",
    "        soup = BeautifulSoup(response.content, 'html.parser')\n",
    "        \n",
    "        # Product Title\n",
    "        product_title = soup.find('span', id='productTitle')\n",
    "        if product_title:\n",
    "            product_title = product_title.get_text().strip()\n",
    "            print(\"Product Title:\", product_title)\n",
    "        \n",
    "        # Product Price\n",
    "        product_price = soup.find('span', id='priceblock_ourprice')\n",
    "        if product_price:\n",
    "            product_price = product_price.get_text().strip()\n",
    "            print(\"Product Price:\", product_price)\n",
    "        \n",
    "        # Product Description\n",
    "        product_description = soup.find('div', id='feature-bullets')\n",
    "        if product_description:\n",
    "            product_description = product_description.get_text().strip()\n",
    "            print(\"Product Description:\", product_description)\n",
    "        \n",
    "        # Product Image URL\n",
    "        product_image_url = soup.find('img', class_='imgTagWrapper')\n",
    "        if product_image_url:\n",
    "            product_image_url = product_image_url.get('src')\n",
    "            print(\"Product Image URL:\", product_image_url)\n",
    "        \n",
    "        # Product Availability\n",
    "        product_availability = soup.find('div', id='availability')\n",
    "        if product_availability:\n",
    "            product_availability = product_availability.get_text().strip()\n",
    "            print(\"Product Availability:\", product_availability)\n",
    "    else:\n",
    "        print(\"Failed to retrieve page:\", response.status_code)\n",
    "\n",
    "scrape_product_info(url)"
   ]
  },
  {
   "cell_type": "code",
   "execution_count": 9,
   "id": "24a4a111",
   "metadata": {},
   "outputs": [
    {
     "name": "stdout",
     "output_type": "stream",
     "text": [
      "Customer Name: Customer\n",
      "Rating: 5.0\n",
      "---------------------\n",
      "Customer Name: Ben K\n",
      "Rating: 5.0\n",
      "---------------------\n",
      "Customer Name: Geri S. Hawkins\n",
      "Rating: 4.0\n",
      "---------------------\n",
      "Customer Name: Mary\n",
      "Rating: 1.0\n",
      "---------------------\n",
      "Customer Name: Angela Brown\n",
      "Rating: 5.0\n",
      "---------------------\n",
      "Customer Name: W. H. Sidberry, Jr.\n",
      "Rating: 5.0\n",
      "---------------------\n",
      "Customer Name: Stephanie Barinka\n",
      "Rating: 5.0\n",
      "---------------------\n",
      "Customer Name: Integrity L.\n",
      "Rating: 3.0\n",
      "---------------------\n"
     ]
    }
   ],
   "source": [
    "def scrape_customer_ratings(url):\n",
    "    response = requests.get(url)\n",
    "    if response.status_code == 200:\n",
    "        soup = BeautifulSoup(response.content, 'html.parser')\n",
    "        review_containers = soup.find_all('div', class_='a-section review aok-relative')\n",
    "        for review in review_containers:\n",
    "            customer_name = review.find('span', class_='a-profile-name').text.strip()\n",
    "            rating = review.find('span', class_='a-icon-alt').text.split()[0]\n",
    "            print(\"Customer Name:\", customer_name)\n",
    "            print(\"Rating:\", rating)\n",
    "            print(\"---------------------\")\n",
    "    else:\n",
    "        print(\"Failed to retrieve page:\", response.status_code)\n",
    "\n",
    "scrape_customer_ratings(url)"
   ]
  },
  {
   "cell_type": "code",
   "execution_count": null,
   "id": "7489acee",
   "metadata": {},
   "outputs": [],
   "source": []
  },
  {
   "cell_type": "code",
   "execution_count": null,
   "id": "998ec217-e400-44c6-91ff-04f142cc53fe",
   "metadata": {},
   "outputs": [],
   "source": []
  },
  {
   "cell_type": "code",
   "execution_count": null,
   "id": "a4b54b4d-640c-4f4d-8628-6e9750ec0dcf",
   "metadata": {},
   "outputs": [],
   "source": []
  }
 ],
 "metadata": {
  "kernelspec": {
   "display_name": "Python 3 (ipykernel)",
   "language": "python",
   "name": "python3"
  },
  "language_info": {
   "codemirror_mode": {
    "name": "ipython",
    "version": 3
   },
   "file_extension": ".py",
   "mimetype": "text/x-python",
   "name": "python",
   "nbconvert_exporter": "python",
   "pygments_lexer": "ipython3",
   "version": "3.12.3"
  }
 },
 "nbformat": 4,
 "nbformat_minor": 5
}
